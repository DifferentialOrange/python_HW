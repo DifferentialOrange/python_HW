{
 "cells": [
  {
   "cell_type": "markdown",
   "metadata": {},
   "source": [
    "**Общая информация**\n",
    "\n",
    "**Срок сдачи:** 18 октября 2017, 06:00 <br\\>\n",
    "**Штраф за опоздание:** -2 балла после 06:00 18 октября, -4 балла после 06:00 25 октября, -6 баллов после 06:00 1 ноября\n",
    "\n",
    "При отправлении ДЗ указывайте фамилию в названии файла\n",
    "Присылать ДЗ необходимо в виде ссылки на свой github репозиторий в slack @alkhamush\n",
    "\n",
    "Необходимо в slack создать таск в приватный чат:\n",
    "/todo Фамилия Имя ссылка на гитхаб @alkhamush\n",
    "Пример:\n",
    "/todo Ксения Стройкова https://github.com/stroykova/spheremailru/stroykova_hw1.ipynb @alkhamush\n",
    "Дополнительно нужно просто скинуть ссылку в slack в личный чат\n",
    "\n",
    "Используйте данный Ipython Notebook при оформлении домашнего задания."
   ]
  },
  {
   "cell_type": "markdown",
   "metadata": {},
   "source": [
    "###### Задание 1 (2 баллов)\n",
    "Реализовать KNN в классе MyKNeighborsClassifier (обязательное условие: точность не ниже sklearn реализации)\n",
    "Разберитесь самостоятельно, какая мера расстояния используется в KNeighborsClassifier дефолтно и реализуйте свой алгоритм именно с этой мерой. Самостоятельно разберитесь, как считается score из KNeighborsClassifier и реализуйте аналог в своём классе. Score не должен уступать значению KNN из sklearn\n",
    "\n",
    "###### Задание 2 (2 балла)\n",
    "Добиться скорости работы на fit,  predict и predict_proba сравнимой со sklearn для iris и mnist\n",
    "Для этого используем numpy\n",
    "\n",
    "###### Задание 3 (2 балла)\n",
    "Для iris найдите такой параметр n_neighbors, при котором выдаётся наилучший score. Нарисуйте график зависимости score от n_neighbors\n",
    "\n",
    "###### Задание 4 (3 балла)\n",
    "Добавить algorithm='kd_tree' в реализацию KNN (использовать KDTree из sklearn.neighbors). Значение n_neighbors нужно взять из задания 3. Добиться скорости работы на fit,  predict и predict_proba сравнимой со sklearn для iris и mnist\n",
    "Для этого используем numpy. Score не должен уступать значению KNN из sklearn\n",
    "\n",
    "###### Задание 5 (1 балла)\n",
    "Описать для чего нужны следующие библиотеки/классы/функции (список будет ниже)\n",
    "\n",
    "**Штрафные баллы:**\n",
    "\n",
    "1. Невыполнение PEP8 -1 балл\n",
    "2. Отсутствие фамилии в имени скрипта (скрипт должен называться по аналогии со stroykova_hw1.ipynb) -1 балл\n",
    "3. Все строчки должны быть выполнены. Нужно, чтобы output команды можно было увидеть уже в git'е. В противном случае -1 балл\n",
    "4. При оформлении ДЗ нужно пользоваться данным файлом в качестве шаблона. Не нужно удалять и видоизменять структуру кода и текст. В противном случае -1 балл\n"
   ]
  },
  {
   "cell_type": "code",
   "execution_count": 2,
   "metadata": {},
   "outputs": [],
   "source": [
    "import numpy as np\n",
    "import matplotlib.pyplot as plt\n",
    "\n",
    "import seaborn as sns\n",
    "from sklearn import datasets\n",
    "from sklearn.base import ClassifierMixin\n",
    "from sklearn.datasets import fetch_mldata\n",
    "from sklearn.neighbors.base import NeighborsBase, KNeighborsMixin, SupervisedIntegerMixin \n",
    "from sklearn.model_selection import train_test_split\n",
    "from sklearn.neighbors import KNeighborsClassifier\n",
    "from sklearn.neighbors import KDTree\n",
    "import collections\n",
    "%load_ext pycodestyle_magic"
   ]
  },
  {
   "cell_type": "code",
   "execution_count": 12,
   "metadata": {},
   "outputs": [],
   "source": [
    "#%%pycodestyle\n",
    "\n",
    "\n",
    "class MyKNeighborsClassifier(NeighborsBase, KNeighborsMixin,\n",
    "                             SupervisedIntegerMixin, ClassifierMixin):\n",
    "\n",
    "    def __init__(self, n_neighbors, algorithm='brute'):\n",
    "        self.n_neighbors = n_neighbors\n",
    "        self.algorithm = algorithm\n",
    "\n",
    "    def fit(self, X, y):\n",
    "        self.X_train = X\n",
    "        self.y_train = y\n",
    "        self.N_class = int(np.amax(y) + 1)\n",
    "        self.train_size = X.shape[0]\n",
    "        if self.algorithm is 'kd_tree':\n",
    "            self.X_tree = KDTree(self.X_train)\n",
    "\n",
    "    def predict(self, X):\n",
    "        if self.algorithm is 'brute':\n",
    "            return self._predict_brute(X)\n",
    "        elif self.algorithm is 'kd_tree':\n",
    "            return self._predict_kd_tree(X)\n",
    "\n",
    "    def predict_proba(self, X):\n",
    "        if self.algorithm is 'brute':\n",
    "            return self._predict_proba_brute(X)\n",
    "        elif self.algorithm is 'kd_tree':\n",
    "            return self._predict_proba_kd_tree(X)\n",
    "\n",
    "    def score(self, X, y):\n",
    "        return np.sum(y == self.predict(X)) / len(y)\n",
    "\n",
    "    def _predict_on_class(self, pred_size, nearest_class):\n",
    "        ans = np.zeros(pred_size)\n",
    "        for ind in range(pred_size):\n",
    "            cnt = collections.Counter(nearest_class[ind])\n",
    "            ans[ind] = cnt.most_common(1)[0][0]\n",
    "        return ans.astype(int)\n",
    "\n",
    "    def _predict_proba_on_class(self, pred_size, nearest_class):\n",
    "        ans = np.zeros((pred_size, self.N_class))\n",
    "        for ind in range(pred_size):\n",
    "            cnt = collections.Counter(nearest_class[ind])\n",
    "            com_cnt = cnt.most_common(self.N_class)\n",
    "            for item in com_cnt:\n",
    "                ans[ind][int(item[0])] = item[1] / self.n_neighbors\n",
    "        return ans\n",
    "\n",
    "    def _predict_brute(self, X):\n",
    "        pred_size = X.shape[0]\n",
    "        nearest_class = self._find_nearest_brute(X)\n",
    "        return self._predict_on_class(pred_size, nearest_class)\n",
    "\n",
    "    def _predict_proba_brute(self, X):\n",
    "        pred_size = X.shape[0]\n",
    "        nearest_class = self._find_nearest_brute(X)\n",
    "        return self._predict_proba_on_class(pred_size, nearest_class)\n",
    "\n",
    "    def _find_nearest_brute(self, X):\n",
    "        X_train = np.array(self.X_train).astype(float)\n",
    "        X_pred = np.array(X).astype(float)\n",
    "\n",
    "        X_train_sq = np.sum(X_train ** 2, axis=1).reshape(1, -1)\n",
    "        X_pred_sq = np.sum(X_pred ** 2, axis=1).reshape(-1, 1)\n",
    "        cross_X = np.matmul(X_pred, X_train.T)\n",
    "        dist = np.sqrt(X_pred_sq - 2 * cross_X + X_train_sq)\n",
    "\n",
    "        sort_n_ind = np.argpartition(dist, (range(self.n_neighbors)), axis=1)\n",
    "        return y_train[sort_n_ind[:, :self.n_neighbors]]\n",
    "\n",
    "    def _predict_kd_tree(self, X):\n",
    "        pred_size = X.shape[0]\n",
    "        nearest_class = self._find_nearest_kd_tree(X)\n",
    "        return self._predict_on_class(pred_size, nearest_class)\n",
    "\n",
    "    def _predict_proba_kd_tree(self, X):\n",
    "        pred_size = X.shape[0]\n",
    "        nearest_class = self._find_nearest_kd_tree(X)\n",
    "        return self._predict_proba_on_class(pred_size, nearest_class)\n",
    "\n",
    "    def _find_nearest_kd_tree(self, X):\n",
    "        X_pred = np.array(X).astype(float)\n",
    "        sort_n_ind = self.X_tree.query(X_pred, k=self.n_neighbors)[1]\n",
    "        return y_train[sort_n_ind[:, :self.n_neighbors]]"
   ]
  },
  {
   "cell_type": "markdown",
   "metadata": {},
   "source": [
    "**IRIS**"
   ]
  },
  {
   "cell_type": "code",
   "execution_count": 3,
   "metadata": {},
   "outputs": [],
   "source": [
    "iris = datasets.load_iris()"
   ]
  },
  {
   "cell_type": "code",
   "execution_count": 4,
   "metadata": {},
   "outputs": [],
   "source": [
    "X_train, X_test, y_train, y_test = train_test_split(\n",
    "    iris.data, iris.target,\n",
    "    test_size=0.1, stratify=iris.target)"
   ]
  },
  {
   "cell_type": "code",
   "execution_count": 5,
   "metadata": {},
   "outputs": [],
   "source": [
    "clf = KNeighborsClassifier(n_neighbors=2, algorithm='brute')\n",
    "my_clf = MyKNeighborsClassifier(n_neighbors=2, algorithm='brute')"
   ]
  },
  {
   "cell_type": "code",
   "execution_count": 6,
   "metadata": {},
   "outputs": [
    {
     "name": "stdout",
     "output_type": "stream",
     "text": [
      "CPU times: user 0 ns, sys: 1.45 ms, total: 1.45 ms\n",
      "Wall time: 1.33 ms\n"
     ]
    },
    {
     "data": {
      "text/plain": [
       "KNeighborsClassifier(algorithm='brute', leaf_size=30, metric='minkowski',\n",
       "           metric_params=None, n_jobs=None, n_neighbors=2, p=2,\n",
       "           weights='uniform')"
      ]
     },
     "execution_count": 6,
     "metadata": {},
     "output_type": "execute_result"
    }
   ],
   "source": [
    "%time clf.fit(X_train, y_train)"
   ]
  },
  {
   "cell_type": "code",
   "execution_count": 7,
   "metadata": {},
   "outputs": [
    {
     "name": "stdout",
     "output_type": "stream",
     "text": [
      "CPU times: user 60 µs, sys: 11 µs, total: 71 µs\n",
      "Wall time: 76.8 µs\n"
     ]
    }
   ],
   "source": [
    "%time my_clf.fit(X_train, y_train)"
   ]
  },
  {
   "cell_type": "code",
   "execution_count": 8,
   "metadata": {},
   "outputs": [
    {
     "name": "stdout",
     "output_type": "stream",
     "text": [
      "CPU times: user 3.94 ms, sys: 701 µs, total: 4.64 ms\n",
      "Wall time: 79.7 ms\n"
     ]
    },
    {
     "data": {
      "text/plain": [
       "array([2, 2, 1, 2, 2, 0, 1, 1, 2, 1, 0, 0, 1, 0, 0])"
      ]
     },
     "execution_count": 8,
     "metadata": {},
     "output_type": "execute_result"
    }
   ],
   "source": [
    "%time clf.predict(X_test)"
   ]
  },
  {
   "cell_type": "code",
   "execution_count": 9,
   "metadata": {},
   "outputs": [
    {
     "name": "stdout",
     "output_type": "stream",
     "text": [
      "CPU times: user 4.64 ms, sys: 0 ns, total: 4.64 ms\n",
      "Wall time: 4.18 ms\n"
     ]
    },
    {
     "data": {
      "text/plain": [
       "array([2, 2, 1, 2, 2, 0, 1, 1, 2, 1, 0, 0, 1, 0, 0])"
      ]
     },
     "execution_count": 9,
     "metadata": {},
     "output_type": "execute_result"
    }
   ],
   "source": [
    "%time my_clf.predict(X_test)"
   ]
  },
  {
   "cell_type": "code",
   "execution_count": 10,
   "metadata": {},
   "outputs": [
    {
     "name": "stdout",
     "output_type": "stream",
     "text": [
      "CPU times: user 1.18 ms, sys: 0 ns, total: 1.18 ms\n",
      "Wall time: 887 µs\n"
     ]
    },
    {
     "data": {
      "text/plain": [
       "array([[0., 0., 1.],\n",
       "       [0., 0., 1.],\n",
       "       [0., 1., 0.],\n",
       "       [0., 0., 1.],\n",
       "       [0., 0., 1.],\n",
       "       [1., 0., 0.],\n",
       "       [0., 1., 0.],\n",
       "       [0., 1., 0.],\n",
       "       [0., 0., 1.],\n",
       "       [0., 1., 0.],\n",
       "       [1., 0., 0.],\n",
       "       [1., 0., 0.],\n",
       "       [0., 1., 0.],\n",
       "       [1., 0., 0.],\n",
       "       [1., 0., 0.]])"
      ]
     },
     "execution_count": 10,
     "metadata": {},
     "output_type": "execute_result"
    }
   ],
   "source": [
    "%time clf.predict_proba(X_test)"
   ]
  },
  {
   "cell_type": "code",
   "execution_count": 11,
   "metadata": {},
   "outputs": [
    {
     "name": "stdout",
     "output_type": "stream",
     "text": [
      "CPU times: user 1.13 ms, sys: 0 ns, total: 1.13 ms\n",
      "Wall time: 749 µs\n"
     ]
    },
    {
     "data": {
      "text/plain": [
       "array([[0., 0., 1.],\n",
       "       [0., 0., 1.],\n",
       "       [0., 1., 0.],\n",
       "       [0., 0., 1.],\n",
       "       [0., 0., 1.],\n",
       "       [1., 0., 0.],\n",
       "       [0., 1., 0.],\n",
       "       [0., 1., 0.],\n",
       "       [0., 0., 1.],\n",
       "       [0., 1., 0.],\n",
       "       [1., 0., 0.],\n",
       "       [1., 0., 0.],\n",
       "       [0., 1., 0.],\n",
       "       [1., 0., 0.],\n",
       "       [1., 0., 0.]])"
      ]
     },
     "execution_count": 11,
     "metadata": {},
     "output_type": "execute_result"
    }
   ],
   "source": [
    "%time my_clf.predict_proba(X_test)"
   ]
  },
  {
   "cell_type": "code",
   "execution_count": 12,
   "metadata": {},
   "outputs": [
    {
     "data": {
      "text/plain": [
       "1.0"
      ]
     },
     "execution_count": 12,
     "metadata": {},
     "output_type": "execute_result"
    }
   ],
   "source": [
    "clf.score(X_test, y_test)"
   ]
  },
  {
   "cell_type": "code",
   "execution_count": 13,
   "metadata": {},
   "outputs": [
    {
     "data": {
      "text/plain": [
       "1.0"
      ]
     },
     "execution_count": 13,
     "metadata": {},
     "output_type": "execute_result"
    }
   ],
   "source": [
    "my_clf.score(X_test, y_test)"
   ]
  },
  {
   "cell_type": "markdown",
   "metadata": {},
   "source": [
    "Задание 3"
   ]
  },
  {
   "cell_type": "code",
   "execution_count": 14,
   "metadata": {},
   "outputs": [
    {
     "name": "stdout",
     "output_type": "stream",
     "text": [
      "Best result on 17\n"
     ]
    },
    {
     "data": {
      "image/png": "[encoded data removed]",
      "text/plain": [
       "<Figure size 432x288 with 1 Axes>"
      ]
     },
     "metadata": {
      "needs_background": "light"
     },
     "output_type": "display_data"
    }
   ],
   "source": [
    "#%%pycodestyle\n",
    "\n",
    "\n",
    "N_tests = 2000\n",
    "bound_neigh = my_clf.train_size // 5\n",
    "\n",
    "y = np.zeros((bound_neigh - 1, N_tests))\n",
    "for test in range(N_tests):\n",
    "    X_train, X_test, y_train, y_test = train_test_split(\n",
    "        iris.data, iris.target, test_size=0.1,\n",
    "        stratify=iris.target)\n",
    "\n",
    "    for i in range(1, bound_neigh):\n",
    "        iter_clf = MyKNeighborsClassifier(n_neighbors=i)\n",
    "        iter_clf.fit(X_train, y_train)\n",
    "        y[i - 1][test] = iter_clf.score(X_test, y_test)\n",
    "\n",
    "\n",
    "x = np.arange(1, bound_neigh)\n",
    "y = np.mean(y, axis=1)\n",
    "plt.plot(x, y)\n",
    "\n",
    "max_eff = np.argpartition(y, -1)[-1] + 1\n",
    "print(f\"Best result on {max_eff}\")"
   ]
  },
  {
   "cell_type": "markdown",
   "metadata": {},
   "source": [
    "**MNIST**"
   ]
  },
  {
   "cell_type": "code",
   "execution_count": 4,
   "metadata": {},
   "outputs": [
    {
     "name": "stderr",
     "output_type": "stream",
     "text": [
      "/home/george/anaconda3/lib/python3.6/site-packages/sklearn/utils/deprecation.py:77: DeprecationWarning: Function fetch_mldata is deprecated; fetch_mldata was deprecated in version 0.20 and will be removed in version 0.22\n",
      "  warnings.warn(msg, category=DeprecationWarning)\n",
      "/home/george/anaconda3/lib/python3.6/site-packages/sklearn/utils/deprecation.py:77: DeprecationWarning: Function mldata_filename is deprecated; mldata_filename was deprecated in version 0.20 and will be removed in version 0.22\n",
      "  warnings.warn(msg, category=DeprecationWarning)\n"
     ]
    }
   ],
   "source": [
    "mnist = fetch_mldata('MNIST original')"
   ]
  },
  {
   "cell_type": "code",
   "execution_count": 5,
   "metadata": {},
   "outputs": [],
   "source": [
    "X_train, X_test, y_train, y_test = train_test_split(\n",
    "    mnist.data, mnist.target,\n",
    "    test_size=0.01, stratify=mnist.target)"
   ]
  },
  {
   "cell_type": "code",
   "execution_count": 6,
   "metadata": {},
   "outputs": [],
   "source": [
    "clf = KNeighborsClassifier(n_neighbors=2, algorithm='brute')\n",
    "my_clf = MyKNeighborsClassifier(n_neighbors=2, algorithm='brute')"
   ]
  },
  {
   "cell_type": "code",
   "execution_count": 7,
   "metadata": {},
   "outputs": [
    {
     "name": "stdout",
     "output_type": "stream",
     "text": [
      "CPU times: user 10.1 ms, sys: 285 µs, total: 10.4 ms\n",
      "Wall time: 10.1 ms\n"
     ]
    },
    {
     "data": {
      "text/plain": [
       "KNeighborsClassifier(algorithm='brute', leaf_size=30, metric='minkowski',\n",
       "           metric_params=None, n_jobs=None, n_neighbors=2, p=2,\n",
       "           weights='uniform')"
      ]
     },
     "execution_count": 7,
     "metadata": {},
     "output_type": "execute_result"
    }
   ],
   "source": [
    "%time clf.fit(X_train, y_train)"
   ]
  },
  {
   "cell_type": "code",
   "execution_count": 8,
   "metadata": {},
   "outputs": [
    {
     "name": "stdout",
     "output_type": "stream",
     "text": [
      "CPU times: user 162 µs, sys: 26 µs, total: 188 µs\n",
      "Wall time: 209 µs\n"
     ]
    }
   ],
   "source": [
    "%time my_clf.fit(X_train, y_train)"
   ]
  },
  {
   "cell_type": "code",
   "execution_count": 9,
   "metadata": {
    "scrolled": true
   },
   "outputs": [
    {
     "name": "stdout",
     "output_type": "stream",
     "text": [
      "CPU times: user 3.47 s, sys: 463 ms, total: 3.94 s\n",
      "Wall time: 2.37 s\n"
     ]
    },
    {
     "data": {
      "text/plain": [
       "array([4., 3., 9., 3., 9., 5., 6., 5., 0., 4., 3., 7., 9., 4., 3., 7., 9.,\n",
       "       1., 9., 4., 5., 4., 1., 7., 4., 6., 3., 3., 5., 6., 1., 1., 7., 7.,\n",
       "       0., 0., 2., 3., 0., 4., 9., 0., 4., 0., 4., 3., 4., 2., 4., 5., 4.,\n",
       "       2., 8., 5., 7., 3., 8., 1., 7., 5., 5., 2., 2., 2., 7., 8., 1., 4.,\n",
       "       4., 9., 5., 7., 5., 8., 0., 5., 6., 9., 4., 2., 5., 7., 1., 5., 2.,\n",
       "       3., 0., 2., 8., 0., 6., 2., 4., 2., 3., 9., 5., 2., 8., 6., 8., 4.,\n",
       "       7., 3., 0., 3., 0., 1., 0., 3., 8., 7., 2., 6., 1., 3., 7., 0., 0.,\n",
       "       0., 0., 5., 9., 8., 1., 6., 6., 1., 9., 2., 2., 2., 6., 1., 3., 3.,\n",
       "       6., 3., 9., 6., 8., 4., 5., 5., 9., 8., 7., 1., 9., 2., 6., 1., 4.,\n",
       "       6., 9., 4., 6., 0., 1., 8., 2., 3., 2., 1., 3., 8., 1., 8., 0., 4.,\n",
       "       5., 9., 7., 6., 1., 1., 8., 0., 8., 5., 4., 9., 9., 1., 2., 6., 7.,\n",
       "       3., 1., 3., 3., 2., 5., 0., 6., 9., 6., 6., 7., 1., 2., 2., 8., 9.,\n",
       "       5., 3., 9., 6., 7., 3., 7., 3., 5., 3., 0., 1., 1., 3., 7., 7., 2.,\n",
       "       7., 5., 2., 1., 0., 2., 5., 1., 3., 1., 2., 1., 1., 6., 8., 3., 1.,\n",
       "       3., 2., 1., 9., 8., 2., 5., 5., 4., 2., 9., 3., 3., 5., 4., 5., 7.,\n",
       "       6., 0., 6., 8., 9., 2., 2., 3., 0., 3., 8., 1., 0., 9., 2., 2., 2.,\n",
       "       8., 3., 6., 3., 9., 3., 7., 6., 4., 0., 5., 3., 5., 6., 0., 8., 7.,\n",
       "       1., 9., 1., 6., 4., 2., 3., 6., 0., 7., 1., 2., 5., 5., 8., 1., 4.,\n",
       "       1., 4., 4., 7., 8., 5., 8., 4., 9., 6., 9., 6., 6., 7., 0., 6., 6.,\n",
       "       1., 1., 2., 1., 1., 6., 8., 8., 6., 0., 8., 7., 6., 9., 3., 6., 0.,\n",
       "       6., 7., 3., 6., 1., 2., 8., 0., 0., 9., 8., 1., 0., 7., 6., 1., 6.,\n",
       "       1., 0., 4., 5., 0., 4., 7., 8., 7., 8., 0., 8., 9., 1., 7., 5., 7.,\n",
       "       6., 3., 1., 7., 3., 9., 9., 9., 9., 8., 6., 6., 6., 9., 0., 7., 9.,\n",
       "       1., 4., 4., 7., 5., 7., 2., 7., 2., 7., 3., 8., 3., 7., 7., 6., 2.,\n",
       "       1., 8., 8., 2., 7., 7., 8., 8., 0., 1., 7., 0., 4., 1., 1., 1., 7.,\n",
       "       0., 5., 9., 3., 8., 4., 5., 7., 9., 2., 4., 2., 3., 8., 6., 9., 8.,\n",
       "       4., 3., 0., 7., 5., 7., 0., 6., 4., 5., 9., 4., 4., 7., 4., 5., 0.,\n",
       "       4., 7., 6., 0., 8., 5., 6., 3., 8., 2., 2., 7., 3., 0., 0., 1., 8.,\n",
       "       7., 4., 7., 1., 5., 5., 7., 0., 9., 7., 4., 9., 8., 9., 9., 1., 6.,\n",
       "       9., 1., 6., 5., 0., 2., 2., 0., 4., 6., 5., 8., 4., 2., 1., 4., 9.,\n",
       "       1., 1., 3., 1., 8., 6., 4., 3., 0., 4., 2., 3., 4., 0., 1., 1., 2.,\n",
       "       0., 6., 2., 1., 3., 1., 8., 6., 6., 1., 5., 0., 3., 9., 4., 2., 9.,\n",
       "       2., 0., 6., 7., 7., 7., 2., 8., 0., 4., 8., 9., 0., 2., 2., 1., 8.,\n",
       "       1., 4., 1., 8., 3., 5., 9., 0., 4., 8., 4., 9., 1., 4., 6., 4., 3.,\n",
       "       3., 3., 2., 6., 9., 9., 1., 0., 3., 1., 3., 7., 7., 0., 3., 1., 6.,\n",
       "       5., 8., 3., 9., 4., 4., 0., 4., 0., 2., 5., 0., 5., 3., 7., 3., 7.,\n",
       "       8., 2., 8., 8., 4., 6., 6., 1., 6., 4., 0., 9., 0., 2., 2., 5., 4.,\n",
       "       0., 8., 5., 2., 4., 3., 7., 8., 3., 5., 9., 7., 3., 7., 8., 7., 7.,\n",
       "       4., 9., 2., 6., 3., 4., 1., 9., 0., 9., 2., 5., 9., 5., 3., 3., 0.,\n",
       "       7., 7., 3., 7., 5., 4., 4., 6., 7., 2., 6., 2., 9., 9., 7., 1., 1.,\n",
       "       0., 9., 4., 2., 3., 9., 5., 6., 1., 6., 8., 5., 7., 6., 1., 1., 9.,\n",
       "       2., 8., 2.])"
      ]
     },
     "execution_count": 9,
     "metadata": {},
     "output_type": "execute_result"
    }
   ],
   "source": [
    "%time clf.predict(X_test)"
   ]
  },
  {
   "cell_type": "code",
   "execution_count": 10,
   "metadata": {},
   "outputs": [
    {
     "name": "stdout",
     "output_type": "stream",
     "text": [
      "CPU times: user 4.29 s, sys: 1.35 s, total: 5.64 s\n",
      "Wall time: 3.06 s\n"
     ]
    },
    {
     "data": {
      "text/plain": [
       "array([4, 3, 9, 3, 9, 5, 6, 5, 0, 4, 3, 7, 9, 4, 3, 7, 9, 1, 9, 4, 5, 4,\n",
       "       1, 7, 4, 6, 3, 3, 5, 6, 1, 1, 7, 7, 0, 0, 2, 3, 0, 4, 9, 0, 4, 0,\n",
       "       4, 3, 4, 2, 4, 5, 4, 2, 8, 5, 7, 3, 8, 1, 7, 5, 5, 2, 2, 2, 7, 8,\n",
       "       1, 4, 4, 9, 5, 7, 5, 8, 0, 5, 6, 9, 4, 2, 5, 7, 1, 5, 2, 3, 0, 2,\n",
       "       8, 0, 6, 2, 4, 2, 3, 9, 5, 2, 8, 6, 8, 4, 7, 3, 0, 3, 0, 1, 0, 3,\n",
       "       8, 7, 2, 6, 1, 7, 7, 0, 0, 0, 0, 5, 9, 8, 1, 6, 6, 1, 9, 2, 2, 2,\n",
       "       6, 1, 3, 3, 6, 3, 9, 6, 8, 9, 5, 5, 9, 8, 7, 1, 9, 2, 6, 1, 4, 6,\n",
       "       9, 4, 6, 0, 1, 8, 2, 3, 2, 1, 3, 8, 1, 8, 0, 4, 5, 9, 7, 6, 1, 1,\n",
       "       8, 0, 8, 5, 4, 9, 9, 1, 2, 6, 7, 3, 1, 3, 3, 2, 5, 0, 6, 9, 6, 6,\n",
       "       7, 1, 2, 2, 8, 9, 5, 3, 9, 6, 7, 3, 7, 3, 5, 3, 0, 1, 1, 3, 7, 7,\n",
       "       2, 7, 5, 2, 1, 0, 2, 5, 1, 3, 1, 2, 1, 1, 6, 8, 3, 1, 3, 2, 1, 9,\n",
       "       8, 2, 5, 5, 4, 2, 9, 3, 3, 5, 4, 5, 7, 6, 0, 6, 8, 9, 2, 2, 3, 0,\n",
       "       3, 8, 1, 0, 9, 2, 2, 2, 8, 3, 6, 3, 9, 3, 7, 6, 4, 0, 5, 3, 5, 6,\n",
       "       0, 8, 7, 1, 9, 1, 6, 4, 2, 3, 6, 0, 7, 1, 2, 5, 5, 8, 1, 4, 1, 4,\n",
       "       4, 7, 8, 5, 8, 4, 9, 6, 9, 6, 6, 7, 0, 6, 6, 1, 1, 2, 1, 1, 6, 8,\n",
       "       8, 6, 0, 8, 7, 6, 9, 3, 6, 0, 6, 7, 3, 6, 1, 2, 8, 0, 0, 9, 8, 1,\n",
       "       0, 7, 6, 1, 6, 1, 0, 4, 5, 0, 4, 7, 8, 7, 8, 0, 8, 9, 1, 7, 5, 7,\n",
       "       6, 3, 1, 7, 3, 9, 9, 9, 9, 8, 6, 6, 6, 9, 0, 7, 9, 1, 4, 4, 7, 5,\n",
       "       7, 2, 7, 2, 7, 3, 8, 3, 7, 7, 6, 2, 1, 8, 8, 2, 7, 7, 8, 8, 0, 1,\n",
       "       7, 0, 4, 1, 1, 1, 7, 0, 5, 9, 3, 8, 4, 5, 7, 9, 2, 4, 2, 3, 8, 6,\n",
       "       9, 8, 4, 3, 0, 7, 5, 7, 0, 6, 4, 5, 9, 4, 4, 7, 4, 5, 0, 4, 7, 6,\n",
       "       0, 8, 5, 6, 3, 8, 2, 2, 7, 3, 0, 0, 1, 8, 7, 4, 7, 1, 5, 5, 7, 0,\n",
       "       9, 7, 4, 9, 8, 9, 9, 1, 6, 9, 1, 6, 5, 0, 2, 2, 0, 4, 6, 5, 8, 4,\n",
       "       2, 1, 4, 9, 1, 1, 3, 1, 8, 6, 4, 3, 0, 4, 2, 3, 4, 0, 1, 1, 2, 0,\n",
       "       6, 3, 1, 3, 1, 8, 6, 6, 1, 5, 0, 3, 9, 4, 2, 9, 2, 0, 6, 7, 7, 7,\n",
       "       2, 8, 0, 4, 8, 9, 0, 2, 2, 1, 8, 1, 4, 1, 8, 3, 5, 9, 0, 4, 8, 4,\n",
       "       9, 1, 4, 6, 4, 3, 3, 3, 2, 6, 9, 9, 1, 0, 3, 1, 3, 7, 7, 0, 3, 1,\n",
       "       6, 5, 8, 3, 9, 4, 4, 0, 4, 0, 2, 5, 0, 5, 3, 7, 3, 7, 8, 2, 8, 8,\n",
       "       4, 6, 6, 1, 6, 4, 0, 9, 0, 2, 2, 5, 4, 0, 8, 5, 2, 4, 3, 7, 8, 3,\n",
       "       5, 9, 7, 3, 7, 8, 7, 7, 4, 9, 2, 6, 3, 4, 1, 9, 0, 9, 2, 5, 9, 5,\n",
       "       3, 3, 0, 7, 7, 3, 7, 5, 4, 4, 6, 7, 2, 6, 2, 9, 9, 7, 1, 1, 0, 9,\n",
       "       4, 2, 3, 9, 5, 6, 1, 6, 8, 5, 7, 6, 1, 1, 9, 2, 9, 2])"
      ]
     },
     "execution_count": 10,
     "metadata": {},
     "output_type": "execute_result"
    }
   ],
   "source": [
    "%time my_clf.predict(X_test)"
   ]
  },
  {
   "cell_type": "code",
   "execution_count": 22,
   "metadata": {},
   "outputs": [
    {
     "name": "stdout",
     "output_type": "stream",
     "text": [
      "CPU times: user 3.56 s, sys: 473 ms, total: 4.04 s\n",
      "Wall time: 4.16 s\n"
     ]
    },
    {
     "data": {
      "text/plain": [
       "array([[0., 0., 0., ..., 0., 0., 0.],\n",
       "       [0., 0., 0., ..., 0., 0., 0.],\n",
       "       [0., 0., 0., ..., 0., 0., 0.],\n",
       "       ...,\n",
       "       [0., 0., 1., ..., 0., 0., 0.],\n",
       "       [0., 0., 0., ..., 1., 0., 0.],\n",
       "       [0., 0., 1., ..., 0., 0., 0.]])"
      ]
     },
     "execution_count": 22,
     "metadata": {},
     "output_type": "execute_result"
    }
   ],
   "source": [
    "%time clf.predict_proba(X_test)"
   ]
  },
  {
   "cell_type": "code",
   "execution_count": 23,
   "metadata": {},
   "outputs": [
    {
     "name": "stdout",
     "output_type": "stream",
     "text": [
      "CPU times: user 4.33 s, sys: 1.25 s, total: 5.58 s\n",
      "Wall time: 3.47 s\n"
     ]
    },
    {
     "data": {
      "text/plain": [
       "array([[0., 0., 0., ..., 0., 0., 0.],\n",
       "       [0., 0., 0., ..., 0., 0., 0.],\n",
       "       [0., 0., 0., ..., 0., 0., 0.],\n",
       "       ...,\n",
       "       [0., 0., 1., ..., 0., 0., 0.],\n",
       "       [0., 0., 0., ..., 1., 0., 0.],\n",
       "       [0., 0., 1., ..., 0., 0., 0.]])"
      ]
     },
     "execution_count": 23,
     "metadata": {},
     "output_type": "execute_result"
    }
   ],
   "source": [
    "%time my_clf.predict_proba(X_test)"
   ]
  },
  {
   "cell_type": "code",
   "execution_count": 24,
   "metadata": {},
   "outputs": [
    {
     "data": {
      "text/plain": [
       "0.9757142857142858"
      ]
     },
     "execution_count": 24,
     "metadata": {},
     "output_type": "execute_result"
    }
   ],
   "source": [
    "clf.score(X_test, y_test)"
   ]
  },
  {
   "cell_type": "code",
   "execution_count": 25,
   "metadata": {},
   "outputs": [
    {
     "data": {
      "text/plain": [
       "0.98"
      ]
     },
     "execution_count": 25,
     "metadata": {},
     "output_type": "execute_result"
    }
   ],
   "source": [
    "my_clf.score(X_test, y_test)"
   ]
  },
  {
   "cell_type": "markdown",
   "metadata": {},
   "source": [
    "Задание 4"
   ]
  },
  {
   "cell_type": "code",
   "execution_count": 26,
   "metadata": {},
   "outputs": [],
   "source": [
    "clf = KNeighborsClassifier(n_neighbors=max_eff, algorithm='kd_tree')\n",
    "my_clf = MyKNeighborsClassifier(n_neighbors=max_eff, algorithm='kd_tree')"
   ]
  },
  {
   "cell_type": "code",
   "execution_count": 27,
   "metadata": {},
   "outputs": [],
   "source": [
    "X_train, X_test, y_train, y_test = train_test_split(\n",
    "    mnist.data, mnist.target,\n",
    "    test_size=0.01, stratify=mnist.target)"
   ]
  },
  {
   "cell_type": "code",
   "execution_count": 28,
   "metadata": {},
   "outputs": [
    {
     "name": "stdout",
     "output_type": "stream",
     "text": [
      "CPU times: user 1min 15s, sys: 303 ms, total: 1min 15s\n",
      "Wall time: 1min 16s\n"
     ]
    },
    {
     "data": {
      "text/plain": [
       "KNeighborsClassifier(algorithm='kd_tree', leaf_size=30, metric='minkowski',\n",
       "           metric_params=None, n_jobs=None, n_neighbors=17, p=2,\n",
       "           weights='uniform')"
      ]
     },
     "execution_count": 28,
     "metadata": {},
     "output_type": "execute_result"
    }
   ],
   "source": [
    "%time clf.fit(X_train, y_train)"
   ]
  },
  {
   "cell_type": "code",
   "execution_count": 29,
   "metadata": {},
   "outputs": [
    {
     "name": "stdout",
     "output_type": "stream",
     "text": [
      "CPU times: user 1min 9s, sys: 331 ms, total: 1min 9s\n",
      "Wall time: 1min 9s\n"
     ]
    }
   ],
   "source": [
    "%time my_clf.fit(X_train, y_train)"
   ]
  },
  {
   "cell_type": "code",
   "execution_count": 30,
   "metadata": {},
   "outputs": [
    {
     "name": "stdout",
     "output_type": "stream",
     "text": [
      "CPU times: user 1min 24s, sys: 18.6 ms, total: 1min 24s\n",
      "Wall time: 1min 24s\n"
     ]
    },
    {
     "data": {
      "text/plain": [
       "array([2., 1., 9., 9., 1., 5., 4., 5., 7., 2., 3., 3., 8., 5., 4., 3., 1.,\n",
       "       3., 9., 7., 8., 0., 0., 3., 4., 3., 7., 4., 3., 5., 5., 5., 0., 1.,\n",
       "       7., 9., 6., 7., 4., 9., 5., 1., 0., 1., 7., 0., 6., 7., 1., 9., 6.,\n",
       "       2., 5., 5., 5., 8., 0., 0., 6., 7., 1., 2., 2., 3., 1., 3., 0., 9.,\n",
       "       9., 1., 9., 3., 6., 6., 1., 5., 2., 9., 5., 7., 6., 1., 4., 6., 0.,\n",
       "       6., 5., 0., 9., 9., 0., 7., 5., 3., 9., 0., 5., 6., 0., 5., 7., 4.,\n",
       "       3., 7., 3., 4., 1., 5., 4., 2., 4., 1., 3., 6., 6., 3., 8., 0., 2.,\n",
       "       4., 7., 1., 0., 2., 3., 4., 0., 6., 3., 9., 5., 7., 8., 6., 0., 8.,\n",
       "       9., 1., 6., 9., 7., 8., 1., 3., 9., 2., 9., 1., 9., 6., 6., 7., 2.,\n",
       "       1., 5., 8., 4., 7., 8., 3., 2., 2., 1., 8., 0., 6., 7., 2., 3., 7.,\n",
       "       5., 1., 4., 3., 3., 3., 5., 8., 5., 4., 5., 8., 3., 6., 4., 3., 7.,\n",
       "       0., 7., 5., 8., 5., 1., 3., 1., 1., 1., 8., 0., 7., 7., 4., 6., 6.,\n",
       "       8., 4., 2., 2., 2., 7., 2., 9., 3., 5., 9., 0., 9., 0., 4., 9., 0.,\n",
       "       8., 6., 8., 9., 1., 2., 0., 7., 0., 9., 3., 3., 3., 2., 2., 3., 3.,\n",
       "       6., 8., 8., 7., 4., 1., 4., 9., 6., 1., 6., 0., 8., 1., 1., 7., 2.,\n",
       "       7., 0., 6., 3., 4., 4., 1., 9., 4., 9., 3., 1., 3., 6., 1., 3., 1.,\n",
       "       9., 0., 3., 7., 4., 5., 9., 8., 6., 1., 1., 1., 6., 1., 9., 1., 1.,\n",
       "       4., 9., 4., 7., 8., 5., 0., 0., 0., 3., 9., 8., 3., 3., 9., 4., 0.,\n",
       "       9., 2., 7., 7., 2., 3., 2., 9., 2., 1., 4., 8., 3., 1., 6., 5., 0.,\n",
       "       9., 9., 8., 1., 5., 2., 5., 8., 0., 1., 1., 5., 3., 4., 9., 5., 4.,\n",
       "       1., 7., 3., 7., 7., 7., 2., 2., 4., 0., 9., 1., 8., 1., 7., 3., 8.,\n",
       "       7., 1., 4., 1., 0., 1., 1., 2., 5., 5., 6., 5., 2., 0., 2., 1., 2.,\n",
       "       2., 5., 0., 4., 9., 6., 4., 4., 1., 5., 6., 8., 3., 7., 9., 1., 2.,\n",
       "       9., 4., 5., 7., 2., 5., 4., 0., 7., 9., 5., 5., 4., 6., 4., 6., 4.,\n",
       "       8., 6., 7., 8., 9., 0., 7., 5., 5., 6., 3., 6., 2., 0., 9., 8., 3.,\n",
       "       6., 1., 3., 1., 6., 1., 6., 1., 2., 1., 5., 1., 8., 9., 3., 8., 5.,\n",
       "       2., 8., 2., 7., 4., 0., 1., 7., 7., 4., 2., 5., 4., 5., 0., 3., 4.,\n",
       "       6., 4., 7., 9., 7., 7., 6., 9., 1., 7., 0., 3., 7., 7., 0., 2., 8.,\n",
       "       2., 6., 1., 9., 4., 1., 3., 2., 5., 9., 8., 4., 6., 1., 3., 7., 7.,\n",
       "       9., 4., 8., 1., 5., 5., 0., 6., 2., 1., 1., 6., 5., 8., 6., 8., 0.,\n",
       "       6., 5., 3., 1., 2., 9., 0., 2., 8., 5., 0., 6., 6., 1., 8., 2., 4.,\n",
       "       4., 3., 4., 4., 9., 6., 2., 7., 7., 3., 8., 8., 2., 0., 8., 4., 5.,\n",
       "       2., 4., 0., 7., 8., 7., 9., 1., 0., 4., 0., 1., 6., 4., 3., 9., 7.,\n",
       "       1., 0., 9., 2., 8., 7., 7., 5., 9., 8., 9., 9., 1., 6., 2., 5., 2.,\n",
       "       4., 8., 5., 7., 6., 0., 6., 3., 9., 8., 0., 7., 3., 4., 0., 5., 7.,\n",
       "       4., 7., 3., 0., 8., 7., 1., 3., 2., 5., 8., 5., 0., 0., 5., 3., 2.,\n",
       "       3., 0., 0., 5., 5., 2., 4., 0., 0., 7., 7., 5., 9., 3., 2., 2., 9.,\n",
       "       4., 6., 5., 5., 1., 6., 7., 7., 8., 6., 1., 8., 7., 3., 9., 8., 6.,\n",
       "       1., 6., 4., 2., 6., 6., 4., 6., 3., 1., 2., 8., 9., 2., 4., 7., 0.,\n",
       "       0., 3., 6., 0., 8., 9., 6., 7., 9., 2., 8., 3., 0., 7., 7., 9., 2.,\n",
       "       6., 1., 8., 0., 1., 1., 8., 2., 1., 9., 4., 4., 2., 6., 9., 4., 3.,\n",
       "       4., 1., 4.])"
      ]
     },
     "execution_count": 30,
     "metadata": {},
     "output_type": "execute_result"
    }
   ],
   "source": [
    "%time clf.predict(X_test)"
   ]
  },
  {
   "cell_type": "code",
   "execution_count": 31,
   "metadata": {},
   "outputs": [
    {
     "name": "stdout",
     "output_type": "stream",
     "text": [
      "CPU times: user 1min 10s, sys: 11.3 ms, total: 1min 10s\n",
      "Wall time: 1min 10s\n"
     ]
    },
    {
     "data": {
      "text/plain": [
       "array([2, 1, 9, 9, 1, 5, 4, 5, 7, 2, 3, 3, 8, 5, 4, 3, 1, 3, 9, 7, 8, 0,\n",
       "       0, 8, 4, 3, 7, 4, 3, 5, 5, 5, 0, 1, 7, 9, 6, 7, 4, 9, 5, 1, 0, 1,\n",
       "       7, 0, 6, 7, 1, 9, 6, 2, 5, 5, 5, 8, 0, 0, 6, 7, 1, 2, 2, 3, 1, 3,\n",
       "       0, 9, 9, 1, 9, 3, 6, 6, 1, 5, 2, 9, 5, 7, 6, 1, 4, 6, 0, 6, 5, 0,\n",
       "       9, 9, 0, 7, 5, 3, 9, 0, 5, 6, 0, 5, 7, 4, 3, 7, 3, 4, 1, 5, 4, 2,\n",
       "       4, 1, 3, 6, 6, 3, 8, 0, 2, 4, 7, 1, 0, 2, 3, 4, 0, 6, 3, 9, 5, 7,\n",
       "       8, 6, 0, 8, 9, 1, 6, 9, 7, 8, 1, 3, 9, 2, 9, 1, 9, 6, 6, 7, 2, 1,\n",
       "       5, 8, 4, 7, 8, 3, 2, 2, 1, 8, 0, 6, 7, 2, 3, 7, 5, 1, 4, 3, 3, 3,\n",
       "       5, 8, 5, 4, 5, 8, 3, 6, 4, 3, 7, 0, 7, 5, 8, 5, 1, 3, 1, 1, 1, 8,\n",
       "       0, 7, 7, 4, 6, 6, 8, 4, 2, 2, 2, 7, 2, 9, 3, 5, 9, 0, 9, 0, 4, 9,\n",
       "       0, 8, 6, 8, 9, 1, 2, 0, 7, 0, 9, 3, 3, 3, 2, 2, 3, 3, 6, 8, 8, 7,\n",
       "       4, 1, 4, 9, 6, 1, 6, 0, 8, 1, 1, 7, 2, 7, 0, 6, 3, 4, 4, 1, 9, 4,\n",
       "       9, 3, 1, 3, 6, 1, 3, 1, 9, 0, 3, 7, 4, 5, 9, 8, 6, 1, 1, 1, 6, 1,\n",
       "       9, 1, 1, 4, 9, 4, 7, 8, 5, 0, 0, 0, 3, 9, 8, 3, 3, 9, 4, 0, 9, 2,\n",
       "       7, 7, 2, 3, 2, 9, 2, 1, 4, 8, 3, 1, 6, 5, 0, 9, 9, 8, 1, 5, 2, 5,\n",
       "       8, 0, 1, 1, 5, 3, 4, 9, 5, 4, 1, 7, 3, 7, 7, 7, 2, 2, 4, 0, 9, 1,\n",
       "       8, 1, 7, 3, 8, 7, 1, 4, 1, 0, 1, 1, 2, 5, 5, 6, 5, 2, 0, 2, 1, 2,\n",
       "       2, 5, 0, 4, 9, 6, 4, 4, 1, 5, 6, 8, 3, 7, 9, 1, 2, 9, 4, 5, 7, 2,\n",
       "       5, 4, 0, 7, 9, 5, 5, 4, 6, 4, 6, 4, 8, 6, 7, 8, 9, 0, 7, 5, 5, 6,\n",
       "       3, 6, 2, 0, 9, 8, 3, 6, 1, 3, 1, 6, 1, 6, 1, 2, 1, 5, 1, 8, 9, 3,\n",
       "       8, 5, 2, 8, 2, 7, 4, 0, 1, 7, 7, 4, 2, 5, 4, 5, 0, 3, 4, 6, 4, 7,\n",
       "       9, 7, 7, 6, 9, 1, 7, 0, 3, 7, 7, 0, 2, 8, 2, 6, 1, 9, 4, 1, 3, 2,\n",
       "       5, 9, 8, 4, 6, 1, 3, 7, 7, 9, 4, 8, 1, 5, 5, 0, 6, 2, 1, 1, 6, 5,\n",
       "       8, 6, 8, 0, 6, 5, 3, 1, 2, 9, 0, 2, 8, 5, 0, 6, 6, 1, 8, 2, 4, 4,\n",
       "       3, 4, 4, 9, 6, 2, 7, 7, 3, 8, 8, 2, 0, 8, 4, 5, 2, 4, 0, 7, 8, 7,\n",
       "       9, 1, 0, 4, 0, 1, 6, 4, 3, 9, 7, 1, 0, 9, 2, 8, 7, 7, 5, 9, 8, 9,\n",
       "       9, 1, 6, 2, 5, 2, 4, 8, 5, 7, 6, 0, 6, 3, 9, 8, 0, 7, 3, 4, 0, 5,\n",
       "       7, 4, 7, 3, 0, 8, 7, 1, 3, 2, 5, 8, 5, 0, 0, 5, 3, 2, 3, 0, 0, 5,\n",
       "       5, 2, 4, 0, 0, 7, 7, 5, 9, 3, 2, 2, 9, 4, 6, 5, 5, 1, 6, 7, 7, 8,\n",
       "       6, 1, 8, 7, 3, 9, 8, 6, 1, 6, 4, 2, 6, 6, 4, 6, 3, 1, 2, 8, 9, 2,\n",
       "       4, 7, 0, 0, 3, 6, 0, 8, 9, 6, 7, 9, 2, 8, 3, 0, 7, 7, 9, 2, 6, 1,\n",
       "       8, 0, 1, 1, 8, 2, 1, 9, 4, 4, 2, 6, 9, 4, 3, 4, 1, 4])"
      ]
     },
     "execution_count": 31,
     "metadata": {},
     "output_type": "execute_result"
    }
   ],
   "source": [
    "%time my_clf.predict(X_test)"
   ]
  },
  {
   "cell_type": "code",
   "execution_count": 32,
   "metadata": {},
   "outputs": [
    {
     "name": "stdout",
     "output_type": "stream",
     "text": [
      "CPU times: user 1min 24s, sys: 19.4 ms, total: 1min 24s\n",
      "Wall time: 1min 24s\n"
     ]
    },
    {
     "data": {
      "text/plain": [
       "array([[0., 0., 1., ..., 0., 0., 0.],\n",
       "       [0., 1., 0., ..., 0., 0., 0.],\n",
       "       [0., 0., 0., ..., 0., 0., 1.],\n",
       "       ...,\n",
       "       [0., 0., 0., ..., 0., 0., 0.],\n",
       "       [0., 1., 0., ..., 0., 0., 0.],\n",
       "       [0., 0., 0., ..., 0., 0., 0.]])"
      ]
     },
     "execution_count": 32,
     "metadata": {},
     "output_type": "execute_result"
    }
   ],
   "source": [
    "%time clf.predict_proba(X_test)"
   ]
  },
  {
   "cell_type": "code",
   "execution_count": 33,
   "metadata": {},
   "outputs": [
    {
     "name": "stdout",
     "output_type": "stream",
     "text": [
      "CPU times: user 1min 7s, sys: 7.65 ms, total: 1min 7s\n",
      "Wall time: 1min 7s\n"
     ]
    },
    {
     "data": {
      "text/plain": [
       "array([[0., 0., 1., ..., 0., 0., 0.],\n",
       "       [0., 1., 0., ..., 0., 0., 0.],\n",
       "       [0., 0., 0., ..., 0., 0., 1.],\n",
       "       ...,\n",
       "       [0., 0., 0., ..., 0., 0., 0.],\n",
       "       [0., 1., 0., ..., 0., 0., 0.],\n",
       "       [0., 0., 0., ..., 0., 0., 0.]])"
      ]
     },
     "execution_count": 33,
     "metadata": {},
     "output_type": "execute_result"
    }
   ],
   "source": [
    "%time my_clf.predict_proba(X_test)"
   ]
  },
  {
   "cell_type": "code",
   "execution_count": 34,
   "metadata": {},
   "outputs": [
    {
     "data": {
      "text/plain": [
       "0.9585714285714285"
      ]
     },
     "execution_count": 34,
     "metadata": {},
     "output_type": "execute_result"
    }
   ],
   "source": [
    "clf.score(X_test, y_test)"
   ]
  },
  {
   "cell_type": "code",
   "execution_count": 35,
   "metadata": {},
   "outputs": [
    {
     "data": {
      "text/plain": [
       "0.96"
      ]
     },
     "execution_count": 35,
     "metadata": {},
     "output_type": "execute_result"
    }
   ],
   "source": [
    "my_clf.score(X_test, y_test)"
   ]
  },
  {
   "cell_type": "markdown",
   "metadata": {},
   "source": [
    "Задание 5"
   ]
  },
  {
   "cell_type": "code",
   "execution_count": 36,
   "metadata": {},
   "outputs": [],
   "source": [
    "# seaborn -- высокоуровневая библиотека для визуализации данных, основанная на matplotlib\n",
    "# matplotlib -- библиотека для визуализации двумерных данных\n",
    "# train_test_split -- функция рандомизированного деления данных на тренировочные и проверочные\n",
    "# Pipelin%load_ext e (from sklearn.pipeline import Pipeline) -- класс для последовательного преобразования данных\n",
    "# StandardScaler (from sklearn.preprocessing import StandardScaler) -- класс для стандартизации данных\n",
    "# ClassifierMixin -- класс-примесь для классификаторов scikit-learn\n",
    "# NeighborsBase -- базовый класс для классификации по соседям\n",
    "# KNeighborsMixin -- базовый класс для поиска K ближайших соседей\n",
    "# SupervisedIntegerMixin -- базовый класс для метода fit"
   ]
  }
 ],
 "metadata": {
  "kernelspec": {
   "display_name": "Python 3",
   "language": "python",
   "name": "python3"
  },
  "language_info": {
   "codemirror_mode": {
    "name": "ipython",
    "version": 3
   },
   "file_extension": ".py",
   "mimetype": "text/x-python",
   "name": "python",
   "nbconvert_exporter": "python",
   "pygments_lexer": "ipython3",
   "version": "3.6.6"
  }
 },
 "nbformat": 4,
 "nbformat_minor": 2
}
