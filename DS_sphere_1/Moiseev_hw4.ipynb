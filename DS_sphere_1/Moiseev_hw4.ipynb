{
 "cells": [
  {
   "cell_type": "markdown",
   "metadata": {},
   "source": [
    "# Алгоритмы интеллектуальной обработки больших объемов данных\n",
    "## Домашнее задание №4 - Метод k-средних, предобработка признаков\n"
   ]
  },
  {
   "cell_type": "markdown",
   "metadata": {},
   "source": [
    "###### <hr\\>\n",
    "**Общая информация**\n",
    "\n",
    "**Срок сдачи:** 28 ноября 2018, 06:00 <br\\>\n",
    "**Штраф за опоздание:** -2 балла после 06:00 28 ноября, -4 балла после 06:00 5 декабря, -6 баллов после 06:00 12 декабря, -8 баллов после 19 декабря\n",
    "\n",
    "При отправлении ДЗ указывайте фамилию в названии файла\n",
    "Присылать ДЗ необходимо в виде ссылки на свой github репозиторий в slack @alkhamush\n",
    "\n",
    "Необходимо в slack создать таск в приватный чат:\n",
    "/todo Фамилия Имя ссылка на гитхаб @alkhamush\n",
    "Пример:\n",
    "/todo Ксения Стройкова https://github.com/stroykova/spheremailru/stroykova_hw1.ipynb @alkhamush\n",
    "Дополнительно нужно просто скинуть ссылку в slack в личный чат\n",
    "\n",
    "Используйте данный Ipython Notebook при оформлении домашнего задания."
   ]
  },
  {
   "cell_type": "markdown",
   "metadata": {},
   "source": [
    "# Имплементация K-means\n",
    "\n",
    "Пользуясь наработками выше, имплементируйте метод k-means.  \n",
    "При инициализации необходимо задавать количество кластеров, функцию расстояния между кластерами (для оригинального k-means - евклидово расстояние) и начальное состояние генератора случайных чисел.\n",
    "\n",
    "После обучения, среди атрибутов класса `Kmeans` должны появится\n",
    "* Метки кластеров для объектов\n",
    "* Координаты центройдов кластеров\n",
    "\n",
    "k-means - это алгоритм **кластеризации**, а не классификации, а посему метод `.predict()` в нем фактически не нужен, но он может возвращать метки ближайшего кластера для объектов."
   ]
  },
  {
   "cell_type": "markdown",
   "metadata": {},
   "source": [
    "###### Задание 1 (2 баллов)\n",
    "Имплементируйте метод k-means. Задание считается выполненным, если Ваша реализация работает быстрее реализации из sklearn.\n",
    "\n",
    "Теория для выполнения задания 2 и 3 остаётся на самостоятельное изучение. Теории немного и она совсем простая.\n",
    "\n",
    "###### Задание 2 (2 балла)\n",
    "Имплементируйте класс MiniBatchKMeans, который является классом наследником Kmeans.\n",
    "\n",
    "###### Задание 3 (2 балла)\n",
    "Превратите k-means в k-means++. Для этого нужно реализовать метод в классе Kmeans, который будет инициализировать более \"хорошие\" значения центроидов. Чтобы использовался метод k-means++, в параметр init необходимо передать строковое значение 'k-means' (по умолчанию 'random').\n",
    "\n",
    "###### Задание 4 (2 балла)\n",
    "В пункте \"Проверка корректности метода\" нужно нарисовать графики, которые показывают зависимость времени выполнения алгоритма от количества сэмплов. Графики должны быть  нарисованы для различных комбинаций реализаций алгоритма (k-means, k-means++, k-means с MiniBatchKMeans, k-means++ с MiniBatchKMeans). График достаточно построить на 5-10 точках.\n",
    "\n",
    "###### Задание 5 (2 балла)\n",
    "В пункте \"Применение K-means на реальных данных\" нужно сравнить различные реализации k-means (k-means, k-means++, k-means с MiniBatchKMeans, k-means++ с MiniBatchKMeans). После чего написать вывод, в котором должно быть объяснение того, почему один алгоритм оказался лучше остальных или почему не было выявлено лучшего алгоритма.\n",
    "\n",
    "**Штрафные баллы:**\n",
    "\n",
    "1. Невыполнение PEP8 -1 балл\n",
    "2. Отсутствие фамилии в имени скрипта (скрипт должен называться по аналогии со stroykova_hw4.ipynb) -1 балл\n",
    "3. Все строчки должны быть выполнены. Нужно, чтобы output команды можно было увидеть уже в git'е. В противном случае -1 балл\n",
    "4. При оформлении ДЗ нужно пользоваться данным файлом в качестве шаблона. Не нужно удалять и видоизменять написанный код и текст. В противном случае -1 балл\n",
    "<hr\\>"
   ]
  },
  {
   "cell_type": "code",
   "execution_count": 1,
   "metadata": {
    "scrolled": true
   },
   "outputs": [],
   "source": [
    "import pandas as pd\n",
    "import numpy as np\n",
    "import matplotlib.pyplot as plt\n",
    "from sklearn.metrics import pairwise_distances\n",
    "from sklearn.cluster import KMeans\n",
    "from sklearn import preprocessing\n",
    "import time\n",
    "%matplotlib inline\n",
    "\n",
    "plt.style.use('ggplot')\n",
    "plt.rcParams['figure.figsize'] = (12,5)\n",
    "\n",
    "%load_ext pycodestyle_magic"
   ]
  },
  {
   "cell_type": "code",
   "execution_count": 2,
   "metadata": {},
   "outputs": [],
   "source": [
    "#%%pycodestyle\n",
    "\n",
    "\n",
    "class MyKmeans:\n",
    "\n",
    "    def __init__(self, k=2, metric='euclidean', max_iter=1000,\n",
    "                 random_state=None, init='random'):\n",
    "        \"\"\"\n",
    "        Инициализация метода\n",
    "        :k - количество кластеров\n",
    "        :metric - функция расстояния между объектами\n",
    "        :max_iter - максимальное количество итераций\n",
    "        :random_state - seed для инициализации генератора случайных чисел\n",
    "        \"\"\"\n",
    "\n",
    "        self.k = k\n",
    "        self.random_state = random_state\n",
    "        self.metric = metric\n",
    "        self.max_iter = max_iter\n",
    "        self.init = init\n",
    "\n",
    "    def set_kmeanspp(self, X):\n",
    "        np.random.seed(self.random_state)\n",
    "\n",
    "        for i in range(self.k):\n",
    "            if i == 0:\n",
    "                centroid_idx = np.random.choice(X.shape[0],\n",
    "                                                size=1, replace=False)[0]\n",
    "                self.centroids = X[centroid_idx][np.newaxis, :]\n",
    "            else:\n",
    "                d = pairwise_distances(X, self.centroids,\n",
    "                                       metric='euclidean').min(axis=1)\n",
    "                weights = d / d.sum()\n",
    "\n",
    "                centroid_idx = np.random.choice(X.shape[0], size=1,\n",
    "                                                replace=False, p=weights)[0]\n",
    "                self.centroids = np.r_[self.centroids,\n",
    "                                       X[centroid_idx, np.newaxis]]\n",
    "\n",
    "        return self.centroids\n",
    "\n",
    "    def fit(self, X, y=None):\n",
    "        \"\"\"\n",
    "        Процедура обучения k-means\n",
    "        \"\"\"\n",
    "\n",
    "        # Инициализация генератора случайных чисел\n",
    "        np.random.seed(self.random_state)\n",
    "\n",
    "        # Массив с метками кластеров для каждого объекта из X\n",
    "        self.labels = np.empty(X.shape[0])\n",
    "\n",
    "        # Массив с центройдами кластеров\n",
    "        self.centroids = np.empty((self.k, X.shape[1]))\n",
    "\n",
    "        if self.init == 'random':\n",
    "            self.centroids = np.random.rand(self.k, X.shape[1])\n",
    "        elif self.init == 'k-means':\n",
    "            self.set_kmeanspp(X)\n",
    "\n",
    "        for iter in range(self.max_iter):\n",
    "            dist = pairwise_distances(X, self.centroids,\n",
    "                                      metric=self.metric)\n",
    "            self.labels = np.argmin(dist, axis=1)\n",
    "\n",
    "            for clust in range(self.k):\n",
    "                sl = X[self.labels == clust]\n",
    "                if len(sl) > 0:\n",
    "                    self.centroids[clust] = sl.mean(axis=0)\n",
    "\n",
    "        return self\n",
    "\n",
    "    def predict(self, X, y=None):\n",
    "        \"\"\"\n",
    "        Процедура предсказания кластера\n",
    "\n",
    "        Возвращает метку ближайшего кластера для каждого объекта\n",
    "        \"\"\"\n",
    "        dist = pairwise_distances(X, self.centroids,\n",
    "                                  metric=self.metric)\n",
    "        return np.argmin(dist, axis=1)\n",
    "\n",
    "\n",
    "class MiniBatchMyKmeans(MyKmeans):\n",
    "    def __init__(self, k=2, metric='euclidean', max_iter=1000,\n",
    "                 random_state=None, init='random', batch_size=10):\n",
    "        super().__init__(k, metric, max_iter, random_state, init)\n",
    "        self.batch_size = batch_size\n",
    "\n",
    "    def fit(self, X, y=None):\n",
    "        \"\"\"\n",
    "        Процедура обучения k-means\n",
    "        \"\"\"\n",
    "\n",
    "        # Инициализация генератора случайных чисел\n",
    "        np.random.seed(self.random_state)\n",
    "\n",
    "        # Массив с метками кластеров для каждого объекта из X\n",
    "        self.labels = np.empty(X.shape[0])\n",
    "\n",
    "        # Массив с центройдами кластеров\n",
    "        self.centroids = np.empty((self.k, X.shape[1]))\n",
    "\n",
    "        if self.init == 'random':\n",
    "            self.centroids = np.random.rand(self.k, X.shape[1])\n",
    "        elif self.init == 'k-means':\n",
    "            self.set_kmeanspp(X)\n",
    "\n",
    "        indices = np.arange(X.shape[0])\n",
    "        cut_ind = X.shape[0]\n",
    "        for iter in range(self.max_iter):\n",
    "            if cut_ind + self.batch_size >= X.shape[0]:\n",
    "                cut_ind = 0\n",
    "                np.random.shuffle(indices)\n",
    "            batch_ind = indices[cut_ind: cut_ind + self.batch_size]\n",
    "            cut_ind += self.batch_size\n",
    "            X_batch = X[batch_ind]\n",
    "\n",
    "            dist = pairwise_distances(X_batch, self.centroids,\n",
    "                                      metric=self.metric)\n",
    "            self.labels = np.argmin(dist, axis=1)\n",
    "\n",
    "            for clust in range(self.k):\n",
    "                sl = X_batch[self.labels == clust]\n",
    "                if len(sl) > 0:\n",
    "                    self.centroids[clust] = (self.centroids[clust] * iter\n",
    "                                             + sl.mean(axis=0)) / (iter + 1)\n",
    "        return self"
   ]
  },
  {
   "cell_type": "markdown",
   "metadata": {},
   "source": [
    "### Проверка корректности метода\n",
    "\n",
    "Перед тем как применять алгоритм на реальных данных, нужно испытать его на простых \"игрушечных\" данных.\n",
    "\n",
    "Если алгоритм реализован правильно, то метод должен идеально разбивать на 3 кластера данные ниже. Проверьте это.\n",
    "\n",
    "ВНИМАНИЕ! Проверка должна быть осуществлена на всех реализациях, иначе реализация не будет зачтена!"
   ]
  },
  {
   "cell_type": "code",
   "execution_count": 3,
   "metadata": {},
   "outputs": [],
   "source": [
    "from sklearn.datasets import make_blobs"
   ]
  },
  {
   "cell_type": "code",
   "execution_count": 4,
   "metadata": {},
   "outputs": [],
   "source": [
    "X, y = make_blobs(n_samples=100, n_features=2, centers=3, cluster_std=1, \n",
    "           center_box=(-10.0, 10.0), shuffle=False, random_state=1234)"
   ]
  },
  {
   "cell_type": "code",
   "execution_count": 5,
   "metadata": {},
   "outputs": [
    {
     "data": {
      "text/plain": [
       "<matplotlib.collections.PathCollection at 0x7f2852fd6f28>"
      ]
     },
     "execution_count": 5,
     "metadata": {},
     "output_type": "execute_result"
    },
    {
     "data": {
      "image/png": "[encoded data removed]",
      "text/plain": [
       "<Figure size 432x288 with 1 Axes>"
      ]
     },
     "metadata": {
      "needs_background": "light"
     },
     "output_type": "display_data"
    }
   ],
   "source": [
    "plt.scatter(X[:,0], X[:, 1], c=y)"
   ]
  },
  {
   "cell_type": "markdown",
   "metadata": {},
   "source": [
    "Проверьте Вашу имплементацию на простых данных (без этого пункта ДЗ не считается выполненным).   \n",
    "КОММЕНТАРИИ НЕ СТИРАТЬ!"
   ]
  },
  {
   "cell_type": "code",
   "execution_count": 6,
   "metadata": {},
   "outputs": [
    {
     "data": {
      "image/png": "[encoded data removed]",
      "text/plain": [
       "<Figure size 432x288 with 1 Axes>"
      ]
     },
     "metadata": {
      "needs_background": "light"
     },
     "output_type": "display_data"
    }
   ],
   "source": [
    "## Работоспособность MyKmeans\n",
    "\n",
    "my_clf = MyKmeans(k=3, init='random')\n",
    "my_clf.fit(X)\n",
    "X_ext = np.concatenate((X, my_clf.centroids))\n",
    "y_pred = np.concatenate((my_clf.predict(X), 3 * [3]))\n",
    "plt.scatter(X_ext[:,0], X_ext[:, 1], c=y_pred)\n",
    "plt.show()"
   ]
  },
  {
   "cell_type": "code",
   "execution_count": 7,
   "metadata": {},
   "outputs": [
    {
     "data": {
      "image/png": "[encoded data removed]",
      "text/plain": [
       "<Figure size 432x288 with 1 Axes>"
      ]
     },
     "metadata": {
      "needs_background": "light"
     },
     "output_type": "display_data"
    }
   ],
   "source": [
    "## Работоспособность MyKmeans++\n",
    "\n",
    "my_clf = MyKmeans(k=3, init='k-means')\n",
    "my_clf.fit(X)\n",
    "X_ext = np.concatenate((X, my_clf.centroids))\n",
    "y_pred = np.concatenate((my_clf.predict(X), 3 * [3]))\n",
    "plt.scatter(X_ext[:,0], X_ext[:, 1], c=y_pred)\n",
    "plt.show()"
   ]
  },
  {
   "cell_type": "code",
   "execution_count": 8,
   "metadata": {},
   "outputs": [
    {
     "data": {
      "image/png": "[encoded data removed]",
      "text/plain": [
       "<Figure size 432x288 with 1 Axes>"
      ]
     },
     "metadata": {
      "needs_background": "light"
     },
     "output_type": "display_data"
    }
   ],
   "source": [
    "## Работоспособность MyKmeans с MiniBatchMyKmeans\n",
    "\n",
    "my_clf = MiniBatchMyKmeans(k=3)\n",
    "my_clf.fit(X)\n",
    "X_ext = np.concatenate((X, my_clf.centroids))\n",
    "y_pred = np.concatenate((my_clf.predict(X), 3 * [3]))\n",
    "plt.scatter(X_ext[:,0], X_ext[:, 1], c=y_pred)\n",
    "plt.show()"
   ]
  },
  {
   "cell_type": "code",
   "execution_count": 9,
   "metadata": {},
   "outputs": [
    {
     "data": {
      "image/png": "[encoded data removed]",
      "text/plain": [
       "<Figure size 432x288 with 1 Axes>"
      ]
     },
     "metadata": {
      "needs_background": "light"
     },
     "output_type": "display_data"
    }
   ],
   "source": [
    "## Работоспособность MyKmeans++ с MiniBatchMyKmeans\n",
    "\n",
    "my_clf = MiniBatchMyKmeans(k=3, init='k-means')\n",
    "my_clf.fit(X)\n",
    "X_ext = np.concatenate((X, my_clf.centroids))\n",
    "y_pred = np.concatenate((my_clf.predict(X), 3 * [3]))\n",
    "plt.scatter(X_ext[:,0], X_ext[:, 1], c=y_pred)\n",
    "plt.show()"
   ]
  },
  {
   "cell_type": "code",
   "execution_count": 10,
   "metadata": {},
   "outputs": [
    {
     "name": "stdout",
     "output_type": "stream",
     "text": [
      "CPU times: user 2.79 s, sys: 0 ns, total: 2.79 s\n",
      "Wall time: 2.9 s\n"
     ]
    },
    {
     "data": {
      "text/plain": [
       "KMeans(algorithm='auto', copy_x=True, init='k-means++', max_iter=1000,\n",
       "    n_clusters=3, n_init=10, n_jobs=None, precompute_distances='auto',\n",
       "    random_state=None, tol=0, verbose=0)"
      ]
     },
     "execution_count": 10,
     "metadata": {},
     "output_type": "execute_result"
    }
   ],
   "source": [
    "## Время выполнения алгоритма Kmeans из sklearn\n",
    "\n",
    "clf = KMeans(n_clusters=3, max_iter=1000, tol=0)\n",
    "%time clf.fit(X)"
   ]
  },
  {
   "cell_type": "code",
   "execution_count": 11,
   "metadata": {},
   "outputs": [
    {
     "name": "stdout",
     "output_type": "stream",
     "text": [
      "CPU times: user 291 ms, sys: 3.53 ms, total: 294 ms\n",
      "Wall time: 296 ms\n"
     ]
    },
    {
     "data": {
      "text/plain": [
       "<__main__.MyKmeans at 0x7f2852eb61d0>"
      ]
     },
     "execution_count": 11,
     "metadata": {},
     "output_type": "execute_result"
    }
   ],
   "source": [
    "## Время выполнения алгоритма MyKmeans\n",
    "\n",
    "my_clf = MyKmeans(k=3, init='random')\n",
    "%time my_clf.fit(X)"
   ]
  },
  {
   "cell_type": "code",
   "execution_count": 12,
   "metadata": {},
   "outputs": [
    {
     "name": "stdout",
     "output_type": "stream",
     "text": [
      "CPU times: user 332 ms, sys: 3.9 ms, total: 336 ms\n",
      "Wall time: 338 ms\n"
     ]
    },
    {
     "data": {
      "text/plain": [
       "<__main__.MyKmeans at 0x7f2852eb67b8>"
      ]
     },
     "execution_count": 12,
     "metadata": {},
     "output_type": "execute_result"
    }
   ],
   "source": [
    "## Время выполнения алгоритма MyKmeans++\n",
    "\n",
    "my_clf = MyKmeans(k=3, init='k-means')\n",
    "%time my_clf.fit(X)"
   ]
  },
  {
   "cell_type": "code",
   "execution_count": 13,
   "metadata": {},
   "outputs": [
    {
     "name": "stdout",
     "output_type": "stream",
     "text": [
      "CPU times: user 275 ms, sys: 0 ns, total: 275 ms\n",
      "Wall time: 281 ms\n"
     ]
    },
    {
     "data": {
      "text/plain": [
       "<__main__.MiniBatchMyKmeans at 0x7f2853344e10>"
      ]
     },
     "execution_count": 13,
     "metadata": {},
     "output_type": "execute_result"
    }
   ],
   "source": [
    "## Время выполнения алгоритма MyKmeans с MiniBatchMyKmeans\n",
    "\n",
    "my_clf = MiniBatchMyKmeans(k=3, init='random')\n",
    "%time my_clf.fit(X)"
   ]
  },
  {
   "cell_type": "code",
   "execution_count": 14,
   "metadata": {},
   "outputs": [
    {
     "name": "stdout",
     "output_type": "stream",
     "text": [
      "CPU times: user 282 ms, sys: 0 ns, total: 282 ms\n",
      "Wall time: 282 ms\n"
     ]
    },
    {
     "data": {
      "text/plain": [
       "<__main__.MiniBatchMyKmeans at 0x7f2852e1eb70>"
      ]
     },
     "execution_count": 14,
     "metadata": {},
     "output_type": "execute_result"
    }
   ],
   "source": [
    "## Время выполнения алгоритма  MyKmeans++ с MiniBatchMyKmeans\n",
    "\n",
    "my_clf = MiniBatchMyKmeans(k=3, init='k-means')\n",
    "%time my_clf.fit(X)"
   ]
  },
  {
   "cell_type": "code",
   "execution_count": 15,
   "metadata": {
    "scrolled": true
   },
   "outputs": [
    {
     "data": {
      "image/png": "[encoded data removed]",
      "text/plain": [
       "<Figure size 432x288 with 1 Axes>"
      ]
     },
     "metadata": {
      "needs_background": "light"
     },
     "output_type": "display_data"
    }
   ],
   "source": [
    "clf = [KMeans(n_clusters=3, max_iter=1000, tol=0),\n",
    "        MyKmeans(k=3, init='random'),\n",
    "        MyKmeans(k=3, init='k-means'),\n",
    "        MiniBatchMyKmeans(k=3, init='random'),\n",
    "        MiniBatchMyKmeans(k=3, init='k-means')]\n",
    "\n",
    "clf_label = ['sklearn', 'random', 'k-means++', \n",
    "             'mini batch random', 'mini batch k-means++']\n",
    "\n",
    "time_clf = [[], [], [], [], []]\n",
    "axis = []\n",
    "\n",
    "for n_samples in range(1000, 5001, 1000):\n",
    "    X, _ = make_blobs(n_samples=n_samples, n_features=2, centers=3, cluster_std=1, \n",
    "           center_box=(-10.0, 10.0), shuffle=False, random_state=4321)\n",
    "    \n",
    "    axis.append(n_samples)\n",
    "    for i in range(len(clf)):\n",
    "        t = time.time()\n",
    "        clf[i].fit(X)\n",
    "        time_clf[i].append(time.time() - t)\n",
    "\n",
    "for i in range(len(clf)):\n",
    "    plt.plot(axis, time_clf[i], label=clf_label[i])\n",
    "\n",
    "plt.legend()\n",
    "plt.show()"
   ]
  },
  {
   "cell_type": "markdown",
   "metadata": {},
   "source": [
    "# Применение K-means на реальных данных"
   ]
  },
  {
   "cell_type": "markdown",
   "metadata": {},
   "source": [
    "Загрузите [данные](https://github.com/brenden17/sklearnlab/blob/master/facebook/snsdata.csv) в которых содержится описание интересов профилей учеников старшей школы США.  (без этого пункта задание не считается выполненным).   \n",
    "ВНИМАНИЕ! Проверка должна быть осуществлена на всех реализациях, иначе реализация не будет зачтена!"
   ]
  },
  {
   "cell_type": "code",
   "execution_count": 16,
   "metadata": {},
   "outputs": [
    {
     "data": {
      "text/html": [
       "<div>\n",
       "<style scoped>\n",
       "    .dataframe tbody tr th:only-of-type {\n",
       "        vertical-align: middle;\n",
       "    }\n",
       "\n",
       "    .dataframe tbody tr th {\n",
       "        vertical-align: top;\n",
       "    }\n",
       "\n",
       "    .dataframe thead th {\n",
       "        text-align: right;\n",
       "    }\n",
       "</style>\n",
       "<table border=\"1\" class=\"dataframe\">\n",
       "  <thead>\n",
       "    <tr style=\"text-align: right;\">\n",
       "      <th></th>\n",
       "      <th>gradyear</th>\n",
       "      <th>gender</th>\n",
       "      <th>age</th>\n",
       "      <th>friends</th>\n",
       "      <th>basketball</th>\n",
       "      <th>football</th>\n",
       "      <th>soccer</th>\n",
       "      <th>softball</th>\n",
       "      <th>volleyball</th>\n",
       "      <th>swimming</th>\n",
       "      <th>...</th>\n",
       "      <th>blonde</th>\n",
       "      <th>mall</th>\n",
       "      <th>shopping</th>\n",
       "      <th>clothes</th>\n",
       "      <th>hollister</th>\n",
       "      <th>abercrombie</th>\n",
       "      <th>die</th>\n",
       "      <th>death</th>\n",
       "      <th>drunk</th>\n",
       "      <th>drugs</th>\n",
       "    </tr>\n",
       "  </thead>\n",
       "  <tbody>\n",
       "    <tr>\n",
       "      <th>0</th>\n",
       "      <td>2006</td>\n",
       "      <td>M</td>\n",
       "      <td>18.982</td>\n",
       "      <td>7</td>\n",
       "      <td>0</td>\n",
       "      <td>0</td>\n",
       "      <td>0</td>\n",
       "      <td>0</td>\n",
       "      <td>0</td>\n",
       "      <td>0</td>\n",
       "      <td>...</td>\n",
       "      <td>0</td>\n",
       "      <td>0</td>\n",
       "      <td>0</td>\n",
       "      <td>0</td>\n",
       "      <td>0</td>\n",
       "      <td>0</td>\n",
       "      <td>0</td>\n",
       "      <td>0</td>\n",
       "      <td>0</td>\n",
       "      <td>0</td>\n",
       "    </tr>\n",
       "    <tr>\n",
       "      <th>1</th>\n",
       "      <td>2006</td>\n",
       "      <td>F</td>\n",
       "      <td>18.801</td>\n",
       "      <td>0</td>\n",
       "      <td>0</td>\n",
       "      <td>1</td>\n",
       "      <td>0</td>\n",
       "      <td>0</td>\n",
       "      <td>0</td>\n",
       "      <td>0</td>\n",
       "      <td>...</td>\n",
       "      <td>0</td>\n",
       "      <td>1</td>\n",
       "      <td>0</td>\n",
       "      <td>0</td>\n",
       "      <td>0</td>\n",
       "      <td>0</td>\n",
       "      <td>0</td>\n",
       "      <td>0</td>\n",
       "      <td>0</td>\n",
       "      <td>0</td>\n",
       "    </tr>\n",
       "    <tr>\n",
       "      <th>2</th>\n",
       "      <td>2006</td>\n",
       "      <td>M</td>\n",
       "      <td>18.335</td>\n",
       "      <td>69</td>\n",
       "      <td>0</td>\n",
       "      <td>1</td>\n",
       "      <td>0</td>\n",
       "      <td>0</td>\n",
       "      <td>0</td>\n",
       "      <td>0</td>\n",
       "      <td>...</td>\n",
       "      <td>0</td>\n",
       "      <td>0</td>\n",
       "      <td>0</td>\n",
       "      <td>0</td>\n",
       "      <td>0</td>\n",
       "      <td>0</td>\n",
       "      <td>0</td>\n",
       "      <td>1</td>\n",
       "      <td>0</td>\n",
       "      <td>0</td>\n",
       "    </tr>\n",
       "    <tr>\n",
       "      <th>3</th>\n",
       "      <td>2006</td>\n",
       "      <td>F</td>\n",
       "      <td>18.875</td>\n",
       "      <td>0</td>\n",
       "      <td>0</td>\n",
       "      <td>0</td>\n",
       "      <td>0</td>\n",
       "      <td>0</td>\n",
       "      <td>0</td>\n",
       "      <td>0</td>\n",
       "      <td>...</td>\n",
       "      <td>0</td>\n",
       "      <td>0</td>\n",
       "      <td>0</td>\n",
       "      <td>0</td>\n",
       "      <td>0</td>\n",
       "      <td>0</td>\n",
       "      <td>0</td>\n",
       "      <td>0</td>\n",
       "      <td>0</td>\n",
       "      <td>0</td>\n",
       "    </tr>\n",
       "    <tr>\n",
       "      <th>4</th>\n",
       "      <td>2006</td>\n",
       "      <td>NaN</td>\n",
       "      <td>18.995</td>\n",
       "      <td>10</td>\n",
       "      <td>0</td>\n",
       "      <td>0</td>\n",
       "      <td>0</td>\n",
       "      <td>0</td>\n",
       "      <td>0</td>\n",
       "      <td>0</td>\n",
       "      <td>...</td>\n",
       "      <td>0</td>\n",
       "      <td>0</td>\n",
       "      <td>2</td>\n",
       "      <td>0</td>\n",
       "      <td>0</td>\n",
       "      <td>0</td>\n",
       "      <td>0</td>\n",
       "      <td>0</td>\n",
       "      <td>1</td>\n",
       "      <td>1</td>\n",
       "    </tr>\n",
       "  </tbody>\n",
       "</table>\n",
       "<p>5 rows × 40 columns</p>\n",
       "</div>"
      ],
      "text/plain": [
       "   gradyear gender     age  friends  basketball  football  soccer  softball  \\\n",
       "0      2006      M  18.982        7           0         0       0         0   \n",
       "1      2006      F  18.801        0           0         1       0         0   \n",
       "2      2006      M  18.335       69           0         1       0         0   \n",
       "3      2006      F  18.875        0           0         0       0         0   \n",
       "4      2006    NaN  18.995       10           0         0       0         0   \n",
       "\n",
       "   volleyball  swimming  ...    blonde  mall  shopping  clothes  hollister  \\\n",
       "0           0         0  ...         0     0         0        0          0   \n",
       "1           0         0  ...         0     1         0        0          0   \n",
       "2           0         0  ...         0     0         0        0          0   \n",
       "3           0         0  ...         0     0         0        0          0   \n",
       "4           0         0  ...         0     0         2        0          0   \n",
       "\n",
       "   abercrombie  die  death  drunk  drugs  \n",
       "0            0    0      0      0      0  \n",
       "1            0    0      0      0      0  \n",
       "2            0    0      1      0      0  \n",
       "3            0    0      0      0      0  \n",
       "4            0    0      0      1      1  \n",
       "\n",
       "[5 rows x 40 columns]"
      ]
     },
     "execution_count": 16,
     "metadata": {},
     "output_type": "execute_result"
    }
   ],
   "source": [
    "df_sns = pd.read_csv('snsdata.csv', sep=',')\n",
    "df_sns.head()"
   ]
  },
  {
   "cell_type": "markdown",
   "metadata": {},
   "source": [
    "Данные устроены так: \n",
    "* Год выпуска\n",
    "* Пол\n",
    "* Возраст\n",
    "* Количество друзей\n",
    "* 36 ключевых слов, которые встречаются в профилe facebook (интересы, сообщества, встречи)"
   ]
  },
  {
   "cell_type": "markdown",
   "metadata": {},
   "source": [
    "* Удалите все признаки кроме 36 ключевых слов.\n",
    "* Нормализуйте данные - из каждого столбца вычтите его среднее значение и поделите на стандартное отклонение.\n",
    "* Используйте метод k-means чтобы выделить 9 кластеров\n",
    "* Попробуйте проинтерпретировать каждый кластер проанализировав полученные центройды (Некоторые кластеры могут быть очень большие и очень маленькие - плохо интерпретируются)   \n",
    "КОММЕНТАРИИ НЕ СТИРАТЬ!"
   ]
  },
  {
   "cell_type": "code",
   "execution_count": 17,
   "metadata": {},
   "outputs": [],
   "source": [
    "df = df_sns.drop(['gradyear', 'gender', 'age', 'friends'], axis='columns')"
   ]
  },
  {
   "cell_type": "code",
   "execution_count": 18,
   "metadata": {},
   "outputs": [],
   "source": [
    "keys = df.columns"
   ]
  },
  {
   "cell_type": "code",
   "execution_count": 19,
   "metadata": {},
   "outputs": [
    {
     "name": "stderr",
     "output_type": "stream",
     "text": [
      "/home/george/anaconda3/lib/python3.6/site-packages/sklearn/preprocessing/data.py:617: DataConversionWarning: Data with input dtype int64 were all converted to float64 by StandardScaler.\n",
      "  return self.partial_fit(X, y)\n",
      "/home/george/anaconda3/lib/python3.6/site-packages/sklearn/base.py:462: DataConversionWarning: Data with input dtype int64 were all converted to float64 by StandardScaler.\n",
      "  return self.fit(X, **fit_params).transform(X)\n"
     ]
    },
    {
     "data": {
      "text/plain": [
       "array([[-0.33221726, -0.35769737, -0.2428741 , ..., -0.26153016,\n",
       "        -0.22040264, -0.1749076 ],\n",
       "       [-0.33221726,  1.06004883, -0.2428741 , ..., -0.26153016,\n",
       "        -0.22040264, -0.1749076 ],\n",
       "       [-0.33221726,  1.06004883, -0.2428741 , ...,  2.02790809,\n",
       "        -0.22040264, -0.1749076 ],\n",
       "       ...,\n",
       "       [-0.33221726,  1.06004883, -0.2428741 , ..., -0.26153016,\n",
       "        -0.22040264, -0.1749076 ],\n",
       "       [-0.33221726, -0.35769737, -0.2428741 , ..., -0.26153016,\n",
       "        -0.22040264, -0.1749076 ],\n",
       "       [ 2.15319868, -0.35769737, -0.2428741 , ..., -0.26153016,\n",
       "        -0.22040264, -0.1749076 ]])"
      ]
     },
     "execution_count": 19,
     "metadata": {},
     "output_type": "execute_result"
    }
   ],
   "source": [
    "scaler = preprocessing.StandardScaler()\n",
    "scaler.fit_transform(df)"
   ]
  },
  {
   "cell_type": "code",
   "execution_count": 35,
   "metadata": {},
   "outputs": [
    {
     "data": {
      "text/plain": [
       "<__main__.MyKmeans at 0x7f285252e518>"
      ]
     },
     "execution_count": 35,
     "metadata": {},
     "output_type": "execute_result"
    }
   ],
   "source": [
    "## MyKMeans\n",
    "\n",
    "my_clf = MyKmeans(k=9, init='random')\n",
    "my_clf.fit(df.values)"
   ]
  },
  {
   "cell_type": "code",
   "execution_count": 36,
   "metadata": {},
   "outputs": [],
   "source": [
    "def get_info(clf, N=5):\n",
    "    res = clf.predict(df)\n",
    "\n",
    "    unique, counts = np.unique(res, return_counts=True)\n",
    "\n",
    "    N = 5\n",
    "    for c_id in range(clf.centroids.shape[0]):\n",
    "        print(f'{c_id + 1} centroid')\n",
    "        print(f'{counts[c_id]} students')\n",
    "        indices = np.argpartition(-clf.centroids[c_id], N)[:N]\n",
    "        print(f'top {N} themes')\n",
    "        print(list(keys[indices]))\n",
    "        print()"
   ]
  },
  {
   "cell_type": "code",
   "execution_count": 37,
   "metadata": {
    "scrolled": true
   },
   "outputs": [
    {
     "name": "stdout",
     "output_type": "stream",
     "text": [
      "1 centroid\n",
      "532 students\n",
      "top 5 themes\n",
      "['jesus', 'music', 'god', 'church', 'hair']\n",
      "\n",
      "2 centroid\n",
      "543 students\n",
      "top 5 themes\n",
      "['marching', 'band', 'music', 'god', 'dance']\n",
      "\n",
      "3 centroid\n",
      "1337 students\n",
      "top 5 themes\n",
      "['church', 'god', 'mall', 'shopping', 'music']\n",
      "\n",
      "4 centroid\n",
      "14409 students\n",
      "top 5 themes\n",
      "['hair', 'cute', 'shopping', 'god', 'basketball']\n",
      "\n",
      "5 centroid\n",
      "1100 students\n",
      "top 5 themes\n",
      "['hair', 'music', 'shopping', 'dance', 'cute']\n",
      "\n",
      "6 centroid\n",
      "9634 students\n",
      "top 5 themes\n",
      "['music', 'shopping', 'god', 'hair', 'cute']\n",
      "\n",
      "7 centroid\n",
      "1063 students\n",
      "top 5 themes\n",
      "['sex', 'music', 'kissed', 'hair', 'blonde']\n",
      "\n",
      "8 centroid\n",
      "717 students\n",
      "top 5 themes\n",
      "['shopping', 'hair', 'soccer', 'basketball', 'music']\n",
      "\n",
      "9 centroid\n",
      "665 students\n",
      "top 5 themes\n",
      "['music', 'rock', 'hair', 'god', 'band']\n",
      "\n"
     ]
    }
   ],
   "source": [
    "get_info(my_clf)"
   ]
  },
  {
   "cell_type": "markdown",
   "metadata": {},
   "source": [
    "Тематика постов первого кластера связана с религией. Второй кластер объединяет любителей религиозной музыки. Темы пятого и седьмого будто сошли со страниц журнала для девушек-подростков. Девятый — рок-музыке."
   ]
  },
  {
   "cell_type": "code",
   "execution_count": 38,
   "metadata": {},
   "outputs": [
    {
     "data": {
      "text/plain": [
       "<__main__.MyKmeans at 0x7f2852537320>"
      ]
     },
     "execution_count": 38,
     "metadata": {},
     "output_type": "execute_result"
    }
   ],
   "source": [
    "## MyKMeans++\n",
    "\n",
    "my_clf = MyKmeans(k=9, init='k-means')\n",
    "my_clf.fit(df.values)"
   ]
  },
  {
   "cell_type": "code",
   "execution_count": 39,
   "metadata": {
    "scrolled": true
   },
   "outputs": [
    {
     "name": "stdout",
     "output_type": "stream",
     "text": [
      "1 centroid\n",
      "2827 students\n",
      "top 5 themes\n",
      "['hair', 'basketball', 'dress', 'jesus', 'bible']\n",
      "\n",
      "2 centroid\n",
      "8170 students\n",
      "top 5 themes\n",
      "['bible', 'church', 'hair', 'music', 'blonde']\n",
      "\n",
      "3 centroid\n",
      "2405 students\n",
      "top 5 themes\n",
      "['hair', 'sex', 'dress', 'music', 'blonde']\n",
      "\n",
      "4 centroid\n",
      "3122 students\n",
      "top 5 themes\n",
      "['bible', 'dance', 'hair', 'blonde', 'jesus']\n",
      "\n",
      "5 centroid\n",
      "856 students\n",
      "top 5 themes\n",
      "['hair', 'jesus', 'soccer', 'dress', 'mall']\n",
      "\n",
      "6 centroid\n",
      "2590 students\n",
      "top 5 themes\n",
      "['hair', 'jesus', 'dress', 'shopping', 'mall']\n",
      "\n",
      "7 centroid\n",
      "754 students\n",
      "top 5 themes\n",
      "['hair', 'bible', 'dress', 'cheerleading', 'mall']\n",
      "\n",
      "8 centroid\n",
      "8783 students\n",
      "top 5 themes\n",
      "['hair', 'jesus', 'dress', 'mall', 'bible']\n",
      "\n",
      "9 centroid\n",
      "493 students\n",
      "top 5 themes\n",
      "['hair', 'jesus', 'dress', 'softball', 'mall']\n",
      "\n"
     ]
    }
   ],
   "source": [
    "get_info(my_clf)"
   ]
  },
  {
   "cell_type": "markdown",
   "metadata": {},
   "source": [
    "Третий кластер снова возвращает нас к тематикам интересов классической девочки-подростка."
   ]
  },
  {
   "cell_type": "code",
   "execution_count": 40,
   "metadata": {},
   "outputs": [
    {
     "data": {
      "text/plain": [
       "<__main__.MiniBatchMyKmeans at 0x7f285252e2b0>"
      ]
     },
     "execution_count": 40,
     "metadata": {},
     "output_type": "execute_result"
    }
   ],
   "source": [
    "## MyKMeans с MiniBatchMyKMeans\n",
    "\n",
    "my_clf = MiniBatchMyKmeans(k=9, init='random')\n",
    "my_clf.fit(df.values)"
   ]
  },
  {
   "cell_type": "code",
   "execution_count": 41,
   "metadata": {
    "scrolled": true
   },
   "outputs": [
    {
     "name": "stdout",
     "output_type": "stream",
     "text": [
      "1 centroid\n",
      "1507 students\n",
      "top 5 themes\n",
      "['soccer', 'basketball', 'football', 'music', 'shopping']\n",
      "\n",
      "2 centroid\n",
      "1737 students\n",
      "top 5 themes\n",
      "['band', 'hair', 'music', 'dance', 'football']\n",
      "\n",
      "3 centroid\n",
      "1200 students\n",
      "top 5 themes\n",
      "['music', 'sex', 'hair', 'kissed', 'die']\n",
      "\n",
      "4 centroid\n",
      "842 students\n",
      "top 5 themes\n",
      "['cheerleading', 'dance', 'music', 'softball', 'basketball']\n",
      "\n",
      "5 centroid\n",
      "20086 students\n",
      "top 5 themes\n",
      "['god', 'cute', 'shopping', 'music', 'hair']\n",
      "\n",
      "6 centroid\n",
      "874 students\n",
      "top 5 themes\n",
      "['music', 'death', 'jesus', 'church', 'god']\n",
      "\n",
      "7 centroid\n",
      "1444 students\n",
      "top 5 themes\n",
      "['music', 'shopping', 'church', 'cute', 'volleyball']\n",
      "\n",
      "8 centroid\n",
      "920 students\n",
      "top 5 themes\n",
      "['music', 'rock', 'band', 'mall', 'shopping']\n",
      "\n",
      "9 centroid\n",
      "1390 students\n",
      "top 5 themes\n",
      "['shopping', 'church', 'music', 'dance', 'cute']\n",
      "\n"
     ]
    }
   ],
   "source": [
    "get_info(my_clf)"
   ]
  },
  {
   "cell_type": "markdown",
   "metadata": {},
   "source": [
    "Первый и чётвёртый кластеры объединяет людей, интересующихся спортом. Третий снова возвращает нас к тематикам интересов классической девочки-подростка. В шестом — интересующиеся религиозной музыкой люди."
   ]
  },
  {
   "cell_type": "code",
   "execution_count": 46,
   "metadata": {},
   "outputs": [
    {
     "data": {
      "text/plain": [
       "<__main__.MiniBatchMyKmeans at 0x7f2852e86cc0>"
      ]
     },
     "execution_count": 46,
     "metadata": {},
     "output_type": "execute_result"
    }
   ],
   "source": [
    "## MyKMeans++ с MiniBatchMyKMeans\n",
    "\n",
    "my_clf = MiniBatchMyKmeans(k=9, init='k-means')\n",
    "my_clf.fit(df.values)"
   ]
  },
  {
   "cell_type": "code",
   "execution_count": 47,
   "metadata": {
    "scrolled": true
   },
   "outputs": [
    {
     "name": "stdout",
     "output_type": "stream",
     "text": [
      "1 centroid\n",
      "2048 students\n",
      "top 5 themes\n",
      "['hair', 'jesus', 'soccer', 'dress', 'mall']\n",
      "\n",
      "2 centroid\n",
      "8487 students\n",
      "top 5 themes\n",
      "['bible', 'church', 'hair', 'music', 'blonde']\n",
      "\n",
      "3 centroid\n",
      "1895 students\n",
      "top 5 themes\n",
      "['bible', 'church', 'band', 'hair', 'blonde']\n",
      "\n",
      "4 centroid\n",
      "1255 students\n",
      "top 5 themes\n",
      "['hair', 'jesus', 'dress', 'mall', 'bible']\n",
      "\n",
      "5 centroid\n",
      "1989 students\n",
      "top 5 themes\n",
      "['hair', 'basketball', 'dress', 'jesus', 'bible']\n",
      "\n",
      "6 centroid\n",
      "8703 students\n",
      "top 5 themes\n",
      "['hair', 'jesus', 'dress', 'mall', 'bible']\n",
      "\n",
      "7 centroid\n",
      "3116 students\n",
      "top 5 themes\n",
      "['hair', 'jesus', 'dress', 'god', 'mall']\n",
      "\n",
      "8 centroid\n",
      "1007 students\n",
      "top 5 themes\n",
      "['hair', 'jesus', 'dress', 'mall', 'bible']\n",
      "\n",
      "9 centroid\n",
      "1500 students\n",
      "top 5 themes\n",
      "['hair', 'cute', 'dress', 'jesus', 'bible']\n",
      "\n"
     ]
    }
   ],
   "source": [
    "get_info(my_clf)"
   ]
  },
  {
   "cell_type": "markdown",
   "metadata": {},
   "source": [
    "Результат работы этого классификатора вовсе плохо подвергается интерпретации."
   ]
  },
  {
   "cell_type": "markdown",
   "metadata": {},
   "source": [
    "## Вывод"
   ]
  },
  {
   "cell_type": "markdown",
   "metadata": {},
   "source": [
    "Сложно сравнивать эти алгоритмы в чём-то, кроме времени работы (где, естественно, выигрывает MiniBatch-реализация). Так как кластеризация плохо поддаётся оценке качества на реальных данных, а метод K-Means сильно зависит от удачного выбора начального приближения, сложно делать вывод о том, что результаты работы какой-либо реализации стабильно более качественны, чем ответы её аналогов."
   ]
  }
 ],
 "metadata": {
  "anaconda-cloud": {},
  "kernelspec": {
   "display_name": "Python 3",
   "language": "python",
   "name": "python3"
  },
  "language_info": {
   "codemirror_mode": {
    "name": "ipython",
    "version": 3
   },
   "file_extension": ".py",
   "mimetype": "text/x-python",
   "name": "python",
   "nbconvert_exporter": "python",
   "pygments_lexer": "ipython3",
   "version": "3.6.6"
  },
  "nav_menu": {},
  "toc": {
   "navigate_menu": true,
   "number_sections": false,
   "sideBar": true,
   "threshold": 6,
   "toc_cell": false,
   "toc_section_display": "block",
   "toc_window_display": true
  }
 },
 "nbformat": 4,
 "nbformat_minor": 2
}
